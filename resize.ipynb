{
 "cells": [
  {
   "cell_type": "code",
   "execution_count": 2,
   "id": "b2bbe33f-799e-4687-95dc-49ddf4d6b807",
   "metadata": {},
   "outputs": [],
   "source": [
    "from glob import glob\n",
    "from PIL import Image"
   ]
  },
  {
   "cell_type": "markdown",
   "id": "d04e0bcb-4744-40ef-b619-26a9d65e0625",
   "metadata": {},
   "source": [
    "original width: 740\n",
    "minus borders: 684\n",
    "times two: 1368\n",
    "times 7.46%: 102\n",
    "\n",
    "\n",
    "original height: 1046\n",
    "minus borders: 990\n",
    "times two: 1980\n",
    "times 5.5%: 109"
   ]
  }
 ],
 "metadata": {
  "kernelspec": {
   "display_name": "Python 3 (ipykernel)",
   "language": "python",
   "name": "python3"
  },
  "language_info": {
   "codemirror_mode": {
    "name": "ipython",
    "version": 3
   },
   "file_extension": ".py",
   "mimetype": "text/x-python",
   "name": "python",
   "nbconvert_exporter": "python",
   "pygments_lexer": "ipython3",
   "version": "3.10.12"
  }
 },
 "nbformat": 4,
 "nbformat_minor": 5
}
